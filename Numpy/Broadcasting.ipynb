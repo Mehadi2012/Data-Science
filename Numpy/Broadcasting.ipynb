{
  "nbformat": 4,
  "nbformat_minor": 0,
  "metadata": {
    "colab": {
      "name": "Broadcasting.ipynb",
      "provenance": [],
      "authorship_tag": "ABX9TyNmU2rpnimoI65qOYxKuPr7",
      "include_colab_link": true
    },
    "kernelspec": {
      "name": "python3",
      "display_name": "Python 3"
    },
    "language_info": {
      "name": "python"
    }
  },
  "cells": [
    {
      "cell_type": "markdown",
      "metadata": {
        "id": "view-in-github",
        "colab_type": "text"
      },
      "source": [
        "<a href=\"https://colab.research.google.com/github/Mehadi2012/Data-Science/blob/main/Broadcasting.ipynb\" target=\"_parent\"><img src=\"https://colab.research.google.com/assets/colab-badge.svg\" alt=\"Open In Colab\"/></a>"
      ]
    },
    {
      "cell_type": "markdown",
      "metadata": {
        "id": "-l_UVpf7wok-"
      },
      "source": [
        "# Computation on Arrays"
      ]
    },
    {
      "cell_type": "code",
      "metadata": {
        "colab": {
          "base_uri": "https://localhost:8080/"
        },
        "id": "QXfn_MlwsABF",
        "outputId": "927f7837-5fed-4c4a-c986-aa8a830c804e"
      },
      "source": [
        "import numpy as np\n",
        "a = np.array([0,1,2,3])\n",
        "b = np.array([4,5,6,7])\n",
        "c = a + b\n",
        "print(c)"
      ],
      "execution_count": 1,
      "outputs": [
        {
          "output_type": "stream",
          "name": "stdout",
          "text": [
            "[ 4  6  8 10]\n"
          ]
        }
      ]
    },
    {
      "cell_type": "markdown",
      "metadata": {
        "id": "YGcVmjretROf"
      },
      "source": [
        "# Rules of Broadcasting\n",
        "- 1. If the two arrays differ in their number of dimensions, the shape of the one with fewer dimensions is padded with ones on its leading (left) side.\n",
        "- 2. If the shape of the two arrays does not match in any dimension, they array with shape equal to 1 in that dimension is stretched to match the other shape\n",
        "- 3. If in any dimension the sizes disagree and neither is equal to 1, an error is raised"
      ]
    },
    {
      "cell_type": "code",
      "metadata": {
        "colab": {
          "base_uri": "https://localhost:8080/"
        },
        "id": "21FNyf6HuT7X",
        "outputId": "e10c0c14-b25d-4f22-f957-66f5bde6a7a1"
      },
      "source": [
        "x = np.arange(4)\n",
        "x1 = x + 5\n",
        "print(x)\n",
        "print(x1)"
      ],
      "execution_count": 2,
      "outputs": [
        {
          "output_type": "stream",
          "name": "stdout",
          "text": [
            "[0 1 2 3]\n",
            "[5 6 7 8]\n"
          ]
        }
      ]
    },
    {
      "cell_type": "code",
      "metadata": {
        "colab": {
          "base_uri": "https://localhost:8080/"
        },
        "id": "eNKMQs8nuopO",
        "outputId": "1f2fb4d2-abea-4b24-cc2e-394e94073666"
      },
      "source": [
        "y = np.ones((3,3), dtype = int)\n",
        "y1 = np.arange(3)\n",
        "y2 = y + y1\n",
        "print(y)\n",
        "print(y1)\n",
        "print(y2)"
      ],
      "execution_count": 4,
      "outputs": [
        {
          "output_type": "stream",
          "name": "stdout",
          "text": [
            "[[1 1 1]\n",
            " [1 1 1]\n",
            " [1 1 1]]\n",
            "[0 1 2]\n",
            "[[1 2 3]\n",
            " [1 2 3]\n",
            " [1 2 3]]\n"
          ]
        }
      ]
    },
    {
      "cell_type": "code",
      "metadata": {
        "colab": {
          "base_uri": "https://localhost:8080/"
        },
        "id": "K58iT89kvFuc",
        "outputId": "d35fcb23-8b79-4ad6-cd89-ff53834ed2d2"
      },
      "source": [
        "z = np.ones((3,1), dtype = int)\n",
        "z1 = np.arange(3)\n",
        "z2= z + z1\n",
        "print(z) # Here we created a 2D array with 3 rows and 1 column\n",
        "print(z1) # Here we created an array\n",
        "print(z2) # after the addtion between z and z1 we can see that we have now an 2D array with 3 rows and 3 columns(at first it was 1). The coulumns increased because of the 1D array with 3 values."
      ],
      "execution_count": 8,
      "outputs": [
        {
          "output_type": "stream",
          "name": "stdout",
          "text": [
            "[[1]\n",
            " [1]\n",
            " [1]]\n",
            "[0 1 2]\n",
            "[[1 2 3]\n",
            " [1 2 3]\n",
            " [1 2 3]]\n"
          ]
        }
      ]
    },
    {
      "cell_type": "markdown",
      "metadata": {
        "id": "ek2Q_tuLw9M3"
      },
      "source": [
        "# Comparison Functions"
      ]
    },
    {
      "cell_type": "code",
      "metadata": {
        "colab": {
          "base_uri": "https://localhost:8080/"
        },
        "id": "V-kE9FVGxBKc",
        "outputId": "3683a332-d136-4acb-b097-f7c97e44c99d"
      },
      "source": [
        "my_arr = np.array([1,2,3,4,5,6,7])\n",
        "print(my_arr > 0)\n",
        "print(my_arr > 3)\n",
        "print(my_arr >= 4)\n",
        "print(my_arr <= 5)\n",
        "print(my_arr == 3)\n",
        "print(my_arr != 4)"
      ],
      "execution_count": 10,
      "outputs": [
        {
          "output_type": "stream",
          "name": "stdout",
          "text": [
            "[ True  True  True  True  True  True  True]\n",
            "[False False False  True  True  True  True]\n",
            "[False False False  True  True  True  True]\n",
            "[ True  True  True  True  True False False]\n",
            "[False False  True False False False False]\n",
            "[ True  True  True False  True  True  True]\n"
          ]
        }
      ]
    }
  ]
}
