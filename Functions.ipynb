{
  "nbformat": 4,
  "nbformat_minor": 0,
  "metadata": {
    "colab": {
      "name": "Functions.ipynb",
      "provenance": [],
      "collapsed_sections": [],
      "authorship_tag": "ABX9TyOcfn1iJOT3tY0kXiRrK/II",
      "include_colab_link": true
    },
    "kernelspec": {
      "name": "python3",
      "display_name": "Python 3"
    },
    "language_info": {
      "name": "python"
    }
  },
  "cells": [
    {
      "cell_type": "markdown",
      "metadata": {
        "id": "view-in-github",
        "colab_type": "text"
      },
      "source": [
        "<a href=\"https://colab.research.google.com/github/Mehadi2012/Data-Science/blob/main/Functions.ipynb\" target=\"_parent\"><img src=\"https://colab.research.google.com/assets/colab-badge.svg\" alt=\"Open In Colab\"/></a>"
      ]
    },
    {
      "cell_type": "markdown",
      "metadata": {
        "id": "PHCnwml90Cei"
      },
      "source": [
        "# Help Function"
      ]
    },
    {
      "cell_type": "code",
      "metadata": {
        "colab": {
          "base_uri": "https://localhost:8080/"
        },
        "id": "XvnWiWKeqN9K",
        "outputId": "577e17c5-dfb6-4d59-b274-cf2b50ef47af"
      },
      "source": [
        "help(len)"
      ],
      "execution_count": null,
      "outputs": [
        {
          "output_type": "stream",
          "name": "stdout",
          "text": [
            "Help on built-in function len in module builtins:\n",
            "\n",
            "len(obj, /)\n",
            "    Return the number of items in a container.\n",
            "\n"
          ]
        }
      ]
    },
    {
      "cell_type": "markdown",
      "metadata": {
        "id": "uQNfjWnZ0UvN"
      },
      "source": [
        "# Defining Function"
      ]
    },
    {
      "cell_type": "code",
      "metadata": {
        "id": "MdN4-zRe0ElC"
      },
      "source": [
        "def multiply(num1, num2):\n",
        "  result = num1*num2\n",
        "  return result\n"
      ],
      "execution_count": null,
      "outputs": []
    },
    {
      "cell_type": "markdown",
      "metadata": {
        "id": "2z0GgH8F1LCF"
      },
      "source": [
        "# Calling Function"
      ]
    },
    {
      "cell_type": "code",
      "metadata": {
        "colab": {
          "base_uri": "https://localhost:8080/"
        },
        "id": "qRFTx3Km0tsi",
        "outputId": "6a31857b-286d-4166-9dea-77a4979372e6"
      },
      "source": [
        "result = multiply(2,3)\n",
        "print(result)"
      ],
      "execution_count": null,
      "outputs": [
        {
          "output_type": "stream",
          "name": "stdout",
          "text": [
            "6\n"
          ]
        }
      ]
    },
    {
      "cell_type": "markdown",
      "metadata": {
        "id": "0cPCTh8l1YYG"
      },
      "source": [
        "# Documenting Function"
      ]
    },
    {
      "cell_type": "code",
      "metadata": {
        "id": "chuMeJX31NxQ"
      },
      "source": [
        "def multiply(num1,num2):\n",
        "  \"\"\"\n",
        "  multiply two number and return the result\n",
        "  \"\"\"\n",
        "  result = num1*num2\n",
        "  return result"
      ],
      "execution_count": null,
      "outputs": []
    }
  ]
}