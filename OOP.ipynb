{
  "nbformat": 4,
  "nbformat_minor": 0,
  "metadata": {
    "colab": {
      "name": "OOP.ipynb",
      "provenance": [],
      "authorship_tag": "ABX9TyPqR7MZrwWMzqwIm+aA+wHS",
      "include_colab_link": true
    },
    "kernelspec": {
      "name": "python3",
      "display_name": "Python 3"
    },
    "language_info": {
      "name": "python"
    }
  },
  "cells": [
    {
      "cell_type": "markdown",
      "metadata": {
        "id": "view-in-github",
        "colab_type": "text"
      },
      "source": [
        "<a href=\"https://colab.research.google.com/github/Mehadi2012/Data-Science/blob/main/OOP.ipynb\" target=\"_parent\"><img src=\"https://colab.research.google.com/assets/colab-badge.svg\" alt=\"Open In Colab\"/></a>"
      ]
    },
    {
      "cell_type": "code",
      "metadata": {
        "id": "dop4sEKJ2F9z"
      },
      "source": [
        "class Car:\n",
        "  def __init__ (self, color):   # Here color is an instance attribute. It belongs to only one object\n",
        "    self.color = color\n",
        "    print(\"I love car\")\n",
        "  brand_name = \"Lamborghini\"   # Here brand_name is a class attribute. It is shared by all objects of the class."
      ],
      "execution_count": 27,
      "outputs": []
    },
    {
      "cell_type": "code",
      "metadata": {
        "colab": {
          "base_uri": "https://localhost:8080/"
        },
        "id": "AzNT7V6jf3eV",
        "outputId": "cfd2243f-ff34-49d5-9fac-fc2a4ffb86c4"
      },
      "source": [
        "car1 = Car(\"white\")\n",
        "car2 = Car(\"blue\")"
      ],
      "execution_count": 28,
      "outputs": [
        {
          "output_type": "stream",
          "name": "stdout",
          "text": [
            "I love car\n",
            "I love car\n"
          ]
        }
      ]
    },
    {
      "cell_type": "code",
      "metadata": {
        "colab": {
          "base_uri": "https://localhost:8080/"
        },
        "id": "i_LeCl4_g2qI",
        "outputId": "f65ffbc8-2fae-4861-d1e3-4ec5e4563ce9"
      },
      "source": [
        "print(car1.color)\n",
        "print(car2.color)"
      ],
      "execution_count": 29,
      "outputs": [
        {
          "output_type": "stream",
          "name": "stdout",
          "text": [
            "white\n",
            "blue\n"
          ]
        }
      ]
    },
    {
      "cell_type": "code",
      "metadata": {
        "colab": {
          "base_uri": "https://localhost:8080/"
        },
        "id": "ko6zq1TWh3yR",
        "outputId": "d813f3c4-adc5-43a9-a504-86bdda556a10"
      },
      "source": [
        "print(car1.brand_name)\n",
        "print(car2.brand_name)"
      ],
      "execution_count": 30,
      "outputs": [
        {
          "output_type": "stream",
          "name": "stdout",
          "text": [
            "Lamborghini\n",
            "Lamborghini\n"
          ]
        }
      ]
    }
  ]
}