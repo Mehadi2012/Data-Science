{
  "nbformat": 4,
  "nbformat_minor": 0,
  "metadata": {
    "colab": {
      "name": "Strings.ipynb",
      "provenance": [],
      "authorship_tag": "ABX9TyOg2PWVwKrFh/0M9d70uWJz",
      "include_colab_link": true
    },
    "kernelspec": {
      "name": "python3",
      "display_name": "Python 3"
    },
    "language_info": {
      "name": "python"
    }
  },
  "cells": [
    {
      "cell_type": "markdown",
      "metadata": {
        "id": "view-in-github",
        "colab_type": "text"
      },
      "source": [
        "<a href=\"https://colab.research.google.com/github/Mehadi2012/Data-Science/blob/main/Strings.ipynb\" target=\"_parent\"><img src=\"https://colab.research.google.com/assets/colab-badge.svg\" alt=\"Open In Colab\"/></a>"
      ]
    },
    {
      "cell_type": "markdown",
      "metadata": {
        "id": "PJ46kNjg81-u"
      },
      "source": [
        "# Strings"
      ]
    },
    {
      "cell_type": "code",
      "metadata": {
        "colab": {
          "base_uri": "https://localhost:8080/",
          "height": 35
        },
        "id": "kfzQq9Jy8rzw",
        "outputId": "e00552b8-4135-439b-d019-3ab190da53dc"
      },
      "source": [
        "\"I love playing football\""
      ],
      "execution_count": 2,
      "outputs": [
        {
          "output_type": "execute_result",
          "data": {
            "application/vnd.google.colaboratory.intrinsic+json": {
              "type": "string"
            },
            "text/plain": [
              "'I love playing football'"
            ]
          },
          "metadata": {},
          "execution_count": 2
        }
      ]
    },
    {
      "cell_type": "code",
      "metadata": {
        "colab": {
          "base_uri": "https://localhost:8080/"
        },
        "id": "L_1Xlv1X9EEz",
        "outputId": "c8d38d73-1b5f-46ef-da80-f6b74f22a56d"
      },
      "source": [
        "print(\"He is a Data Scientist\")"
      ],
      "execution_count": 3,
      "outputs": [
        {
          "output_type": "stream",
          "name": "stdout",
          "text": [
            "He is a Data Scientist\n"
          ]
        }
      ]
    },
    {
      "cell_type": "code",
      "metadata": {
        "colab": {
          "base_uri": "https://localhost:8080/"
        },
        "id": "M0gPuoVo9Q8a",
        "outputId": "1ce73a78-baf5-46c8-cc49-12a0cfbe49a9"
      },
      "source": [
        "print(\"I'm a student\")"
      ],
      "execution_count": 4,
      "outputs": [
        {
          "output_type": "stream",
          "name": "stdout",
          "text": [
            "I'm a student\n"
          ]
        }
      ]
    },
    {
      "cell_type": "markdown",
      "metadata": {
        "id": "KSgcxitV-SdR"
      },
      "source": [
        "# Escape Character"
      ]
    },
    {
      "cell_type": "code",
      "metadata": {
        "colab": {
          "base_uri": "https://localhost:8080/"
        },
        "id": "Me4JVFCh83UN",
        "outputId": "ad8cbba6-5cd1-4386-f5b9-8294c090c4ba"
      },
      "source": [
        "print('Newton\\'s third law: \"Every action has an equal but opposite reaction\"')"
      ],
      "execution_count": 6,
      "outputs": [
        {
          "output_type": "stream",
          "name": "stdout",
          "text": [
            "Newton's third law: \"Every action has an equal but opposite reaction\"\n"
          ]
        }
      ]
    },
    {
      "cell_type": "markdown",
      "metadata": {
        "id": "qHqI9wD4-g0Q"
      },
      "source": [
        "# String Concatenation"
      ]
    },
    {
      "cell_type": "code",
      "metadata": {
        "colab": {
          "base_uri": "https://localhost:8080/"
        },
        "id": "mjiuSX47-VIa",
        "outputId": "1d3ae83b-7060-4f29-b94b-b5159cd71dab"
      },
      "source": [
        "print(\"Hello\"+ \" World\")"
      ],
      "execution_count": 7,
      "outputs": [
        {
          "output_type": "stream",
          "name": "stdout",
          "text": [
            "Hello World\n"
          ]
        }
      ]
    },
    {
      "cell_type": "code",
      "metadata": {
        "colab": {
          "base_uri": "https://localhost:8080/"
        },
        "id": "yapko9EQ-utF",
        "outputId": "39c76bef-d293-4c62-def8-7d840d6a8ed6"
      },
      "source": [
        "print(\"Hello\"+\"\\nWorld\")"
      ],
      "execution_count": 9,
      "outputs": [
        {
          "output_type": "stream",
          "name": "stdout",
          "text": [
            "Hello\n",
            "World\n"
          ]
        }
      ]
    },
    {
      "cell_type": "markdown",
      "metadata": {
        "id": "uHz_-djM--w0"
      },
      "source": [
        "# String Indexing"
      ]
    },
    {
      "cell_type": "code",
      "metadata": {
        "colab": {
          "base_uri": "https://localhost:8080/"
        },
        "id": "7-4alQSD_CCs",
        "outputId": "f7870d55-64a0-4ad2-f0a0-f60685518d4c"
      },
      "source": [
        "line1 = \"Hello\"\n",
        "line2 = \"World\"\n",
        "join = line1 + line2\n",
        "print(join)\n",
        "print(join[0])\n",
        "print(join[9])"
      ],
      "execution_count": 13,
      "outputs": [
        {
          "output_type": "stream",
          "name": "stdout",
          "text": [
            "HelloWorld\n",
            "H\n",
            "d\n"
          ]
        }
      ]
    },
    {
      "cell_type": "code",
      "metadata": {
        "colab": {
          "base_uri": "https://localhost:8080/"
        },
        "id": "g0ADgruw_yKz",
        "outputId": "58ab3169-34eb-4e27-9d93-7a651324b721"
      },
      "source": [
        "word = 'nice'\n",
        "print(word[0])\n",
        "print(word[1])\n",
        "print(word[2])\n",
        "print(word[3])"
      ],
      "execution_count": 14,
      "outputs": [
        {
          "output_type": "stream",
          "name": "stdout",
          "text": [
            "n\n",
            "i\n",
            "c\n",
            "e\n"
          ]
        }
      ]
    },
    {
      "cell_type": "markdown",
      "metadata": {
        "id": "VbeVj6u5Aba5"
      },
      "source": [
        "# String Slicing"
      ]
    },
    {
      "cell_type": "code",
      "metadata": {
        "colab": {
          "base_uri": "https://localhost:8080/"
        },
        "id": "31Hdr2SZAf-i",
        "outputId": "9e21bf78-dce5-4599-b39c-c98575f56355"
      },
      "source": [
        "#some_string[start:end]\n",
        "\n",
        "sentence = 'Hello World'\n",
        "print(\"first part: \" + sentence[0:5])\n",
        "print(\"last part: \" + sentence[6:11])"
      ],
      "execution_count": 22,
      "outputs": [
        {
          "output_type": "stream",
          "name": "stdout",
          "text": [
            "first part: Hello\n",
            "last part: World\n"
          ]
        }
      ]
    },
    {
      "cell_type": "markdown",
      "metadata": {
        "id": "6lLaxUAcB554"
      },
      "source": [
        "# Length of a string"
      ]
    },
    {
      "cell_type": "code",
      "metadata": {
        "colab": {
          "base_uri": "https://localhost:8080/"
        },
        "id": "BePKCTGkB8Yk",
        "outputId": "37ebc775-58f9-4799-c0e3-1dcdc1785ee8"
      },
      "source": [
        "sentence = \"It's rainging\"\n",
        "print(len(sentence))"
      ],
      "execution_count": 23,
      "outputs": [
        {
          "output_type": "stream",
          "name": "stdout",
          "text": [
            "13\n"
          ]
        }
      ]
    },
    {
      "cell_type": "code",
      "metadata": {
        "colab": {
          "base_uri": "https://localhost:8080/"
        },
        "id": "lSBshCphCvCZ",
        "outputId": "6b7f851a-848c-4a84-c5a0-c1f5861b46fe"
      },
      "source": [
        "print(sentence[-1])\n",
        "print(sentence[len(sentence)-1])"
      ],
      "execution_count": 25,
      "outputs": [
        {
          "output_type": "stream",
          "name": "stdout",
          "text": [
            "g\n",
            "g\n"
          ]
        }
      ]
    }
  ]
}