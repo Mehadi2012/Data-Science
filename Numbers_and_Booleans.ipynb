{
  "nbformat": 4,
  "nbformat_minor": 0,
  "metadata": {
    "colab": {
      "name": "Numbers and Booleans.ipynb",
      "provenance": [],
      "authorship_tag": "ABX9TyPW4vKVBRrz63ODthG4Hx18",
      "include_colab_link": true
    },
    "kernelspec": {
      "name": "python3",
      "display_name": "Python 3"
    },
    "language_info": {
      "name": "python"
    }
  },
  "cells": [
    {
      "cell_type": "markdown",
      "metadata": {
        "id": "view-in-github",
        "colab_type": "text"
      },
      "source": [
        "<a href=\"https://colab.research.google.com/github/Mehadi2012/Data-Science/blob/main/Numbers_and_Booleans.ipynb\" target=\"_parent\"><img src=\"https://colab.research.google.com/assets/colab-badge.svg\" alt=\"Open In Colab\"/></a>"
      ]
    },
    {
      "cell_type": "markdown",
      "metadata": {
        "id": "_TiaEDDD12Yk"
      },
      "source": [
        "# Numbers"
      ]
    },
    {
      "cell_type": "markdown",
      "metadata": {
        "id": "5NSwK8xv15WF"
      },
      "source": [
        "## Integer"
      ]
    },
    {
      "cell_type": "code",
      "metadata": {
        "colab": {
          "base_uri": "https://localhost:8080/"
        },
        "id": "bv5_IMSI1rsn",
        "outputId": "17f9e7c3-13d1-4d6e-83c6-7ae0a42e5e33"
      },
      "source": [
        "a = 100\n",
        "print(a)"
      ],
      "execution_count": 2,
      "outputs": [
        {
          "output_type": "stream",
          "name": "stdout",
          "text": [
            "100\n"
          ]
        }
      ]
    },
    {
      "cell_type": "code",
      "metadata": {
        "colab": {
          "base_uri": "https://localhost:8080/"
        },
        "id": "y24AhdrJ2Wcm",
        "outputId": "d75fef3e-ae9c-46f0-ef12-9516fe6bc698"
      },
      "source": [
        "x = 20\n",
        "type(x)"
      ],
      "execution_count": 6,
      "outputs": [
        {
          "output_type": "execute_result",
          "data": {
            "text/plain": [
              "int"
            ]
          },
          "metadata": {},
          "execution_count": 6
        }
      ]
    },
    {
      "cell_type": "markdown",
      "metadata": {
        "id": "maeREr2l2KgT"
      },
      "source": [
        "## Float"
      ]
    },
    {
      "cell_type": "code",
      "metadata": {
        "colab": {
          "base_uri": "https://localhost:8080/"
        },
        "id": "WccKQyzW14HV",
        "outputId": "07e45272-fda2-45a8-e095-56e9ffc857a5"
      },
      "source": [
        "b = 100.01\n",
        "print(b)"
      ],
      "execution_count": 3,
      "outputs": [
        {
          "output_type": "stream",
          "name": "stdout",
          "text": [
            "100.01\n"
          ]
        }
      ]
    },
    {
      "cell_type": "code",
      "metadata": {
        "colab": {
          "base_uri": "https://localhost:8080/"
        },
        "id": "1WUUuWXb2bZv",
        "outputId": "7da7e2df-3cae-4ea0-b6b1-5e20a23bce3e"
      },
      "source": [
        "y = 20.33\n",
        "type(y)"
      ],
      "execution_count": 5,
      "outputs": [
        {
          "output_type": "execute_result",
          "data": {
            "text/plain": [
              "float"
            ]
          },
          "metadata": {},
          "execution_count": 5
        }
      ]
    },
    {
      "cell_type": "markdown",
      "metadata": {
        "id": "tU564OE82oB9"
      },
      "source": [
        "# Typecasting"
      ]
    },
    {
      "cell_type": "code",
      "metadata": {
        "colab": {
          "base_uri": "https://localhost:8080/"
        },
        "id": "i9t2-bwR2ru-",
        "outputId": "f4121669-58e1-41ea-c53c-2f32b18b1f36"
      },
      "source": [
        "a = 8\n",
        "b = 3\n",
        "c= 2\n",
        "divide = a/b\n",
        "print(divide)\n",
        "apply_typeCasting = int(divide)\n",
        "apply_typeCasting2 = float(c)\n",
        "print(apply_typeCasting)\n",
        "print(apply_typeCasting2)"
      ],
      "execution_count": 10,
      "outputs": [
        {
          "output_type": "stream",
          "name": "stdout",
          "text": [
            "2.6666666666666665\n",
            "2\n",
            "2.0\n"
          ]
        }
      ]
    },
    {
      "cell_type": "markdown",
      "metadata": {
        "id": "Psk5pX1v3rpm"
      },
      "source": [
        "# Boolean"
      ]
    },
    {
      "cell_type": "code",
      "metadata": {
        "colab": {
          "base_uri": "https://localhost:8080/"
        },
        "id": "zpg8Ny0w3tL8",
        "outputId": "f1c34388-4d53-4251-a918-25275cf8fe7f"
      },
      "source": [
        "m = True\n",
        "n = False\n",
        "print(type(m))\n",
        "print(type(n))"
      ],
      "execution_count": 12,
      "outputs": [
        {
          "output_type": "stream",
          "name": "stdout",
          "text": [
            "<class 'bool'>\n",
            "<class 'bool'>\n"
          ]
        }
      ]
    }
  ]
}