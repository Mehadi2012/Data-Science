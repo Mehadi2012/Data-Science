{
  "nbformat": 4,
  "nbformat_minor": 0,
  "metadata": {
    "colab": {
      "name": "Conditional Statements.ipynb",
      "provenance": [],
      "authorship_tag": "ABX9TyPaDjSa+AHbGRDbDSvv9rkF",
      "include_colab_link": true
    },
    "kernelspec": {
      "name": "python3",
      "display_name": "Python 3"
    },
    "language_info": {
      "name": "python"
    }
  },
  "cells": [
    {
      "cell_type": "markdown",
      "metadata": {
        "id": "view-in-github",
        "colab_type": "text"
      },
      "source": [
        "<a href=\"https://colab.research.google.com/github/Mehadi2012/Data-Science/blob/main/Conditional_Statements.ipynb\" target=\"_parent\"><img src=\"https://colab.research.google.com/assets/colab-badge.svg\" alt=\"Open In Colab\"/></a>"
      ]
    },
    {
      "cell_type": "markdown",
      "metadata": {
        "id": "6fqZZsyuVpIf"
      },
      "source": [
        "# Conditional Statements"
      ]
    },
    {
      "cell_type": "code",
      "metadata": {
        "colab": {
          "base_uri": "https://localhost:8080/"
        },
        "id": "T3l07ZDOVrx1",
        "outputId": "0c32c3f3-5d36-4e77-a54e-989b1c749ccc"
      },
      "source": [
        "if 7 > 3:\n",
        "  print(\"yaaahoooo!\")\n",
        "\n",
        "print(\"hello\")"
      ],
      "execution_count": null,
      "outputs": [
        {
          "output_type": "stream",
          "name": "stdout",
          "text": [
            "yaaahoooo!\n",
            "hello\n"
          ]
        }
      ]
    },
    {
      "cell_type": "code",
      "metadata": {
        "colab": {
          "base_uri": "https://localhost:8080/"
        },
        "id": "_iWFC2EPWSeY",
        "outputId": "02d58699-027c-44b2-b04f-b9a703ee63d2"
      },
      "source": [
        "if 7 < 3:\n",
        "  print(\"No\")\n",
        "\n",
        "print(\"Hello There\")"
      ],
      "execution_count": null,
      "outputs": [
        {
          "output_type": "stream",
          "name": "stdout",
          "text": [
            "Hello There\n"
          ]
        }
      ]
    },
    {
      "cell_type": "code",
      "metadata": {
        "colab": {
          "base_uri": "https://localhost:8080/"
        },
        "id": "OirtxJJMW8c2",
        "outputId": "8ee0cdc6-57ba-46ff-b946-213d4868db88"
      },
      "source": [
        "x = 10\n",
        "y = 20\n",
        "if x > y:\n",
        "  print(\"yes, its is\")\n",
        "else:\n",
        "  print(\"no, it's not\")"
      ],
      "execution_count": null,
      "outputs": [
        {
          "output_type": "stream",
          "name": "stdout",
          "text": [
            "no, it's not\n"
          ]
        }
      ]
    },
    {
      "cell_type": "code",
      "metadata": {
        "colab": {
          "base_uri": "https://localhost:8080/"
        },
        "id": "cqGoWi_RXKfz",
        "outputId": "0b35a049-083b-47aa-f874-1af1b79e653a"
      },
      "source": [
        "x = 20\n",
        "y = 10\n",
        "if x > y:\n",
        "  print(\"yes, it is\")\n",
        "else:\n",
        "  print(\"no, it's not\")"
      ],
      "execution_count": null,
      "outputs": [
        {
          "output_type": "stream",
          "name": "stdout",
          "text": [
            "yes, it is\n"
          ]
        }
      ]
    },
    {
      "cell_type": "code",
      "metadata": {
        "colab": {
          "base_uri": "https://localhost:8080/"
        },
        "id": "fFa0Lz9eYRA-",
        "outputId": "079c75d5-e2ce-4732-c3f8-ee7bb7fadcfc"
      },
      "source": [
        "if 99>1:\n",
        "  print(\"first\")\n",
        "if 88>3:\n",
        "    print(\"second\")"
      ],
      "execution_count": null,
      "outputs": [
        {
          "output_type": "stream",
          "name": "stdout",
          "text": [
            "first\n",
            "second\n"
          ]
        }
      ]
    },
    {
      "cell_type": "code",
      "metadata": {
        "colab": {
          "base_uri": "https://localhost:8080/"
        },
        "id": "6f-4psPzYqS4",
        "outputId": "be2e4c60-1256-4ad2-91ea-3ca3d88141d7"
      },
      "source": [
        "# elif statements is used where only one condition can be true. The rest is dropped.\n",
        "a = 22\n",
        "b = 33\n",
        "if a > b:\n",
        "  print(\"a is greater than b\")\n",
        "elif a < b:\n",
        "  print(\"a is smaller than b\")\n",
        "elif a == b:\n",
        "  print(\" a is equal to b\")"
      ],
      "execution_count": null,
      "outputs": [
        {
          "output_type": "stream",
          "name": "stdout",
          "text": [
            "a is smaller than b\n"
          ]
        }
      ]
    },
    {
      "cell_type": "code",
      "metadata": {
        "colab": {
          "base_uri": "https://localhost:8080/"
        },
        "id": "QzUYRI4BZypn",
        "outputId": "6afa21e9-d32c-48e3-f259-49e3c7d421a6"
      },
      "source": [
        "a = 33\n",
        "b = 33\n",
        "if a > b:\n",
        "  print(\"a is greater than b\")\n",
        "elif a <= b:\n",
        "  print(\"a is smaller than b\")\n",
        "elif a == b:\n",
        "  print(\" a is equal to b\")"
      ],
      "execution_count": null,
      "outputs": [
        {
          "output_type": "stream",
          "name": "stdout",
          "text": [
            "a is smaller than b\n"
          ]
        }
      ]
    },
    {
      "cell_type": "code",
      "metadata": {
        "colab": {
          "base_uri": "https://localhost:8080/"
        },
        "id": "ikU0i9JAZ5Ka",
        "outputId": "b15f87e7-b4ab-431a-bce2-d7545911a158"
      },
      "source": [
        "a = 20\n",
        "b = 20\n",
        "if a > b:\n",
        "  print(\"a is greater than b\")\n",
        "elif a < b:\n",
        "  print(\"a is smaller than b\")\n",
        "elif a == b:\n",
        "  print(\" a is equal to b\")"
      ],
      "execution_count": null,
      "outputs": [
        {
          "output_type": "stream",
          "name": "stdout",
          "text": [
            " a is equal to b\n"
          ]
        }
      ]
    }
  ]
}