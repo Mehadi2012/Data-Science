{
  "nbformat": 4,
  "nbformat_minor": 0,
  "metadata": {
    "colab": {
      "name": "Compound Data Types.ipynb",
      "provenance": [],
      "authorship_tag": "ABX9TyNFHPBuQVwcg1CfGD3sJD8C",
      "include_colab_link": true
    },
    "kernelspec": {
      "name": "python3",
      "display_name": "Python 3"
    },
    "language_info": {
      "name": "python"
    }
  },
  "cells": [
    {
      "cell_type": "markdown",
      "metadata": {
        "id": "view-in-github",
        "colab_type": "text"
      },
      "source": [
        "<a href=\"https://colab.research.google.com/github/Mehadi2012/Data-Science/blob/main/Compound_Data_Types.ipynb\" target=\"_parent\"><img src=\"https://colab.research.google.com/assets/colab-badge.svg\" alt=\"Open In Colab\"/></a>"
      ]
    },
    {
      "cell_type": "code",
      "metadata": {
        "colab": {
          "base_uri": "https://localhost:8080/"
        },
        "id": "Z4tp7nAekb6d",
        "outputId": "4633c468-a477-44e0-f53c-36feb56199bd"
      },
      "source": [
        "a_dict = {1:{1:[1,2,3,\"python\"], 4.4:(4,5,6)}}\n",
        "print(a_dict[1])\n",
        "print(a_dict[1][1])\n",
        "print(a_dict[1][1][3]) # This is how we would get the string \"python\""
      ],
      "execution_count": null,
      "outputs": [
        {
          "output_type": "stream",
          "name": "stdout",
          "text": [
            "{1: [1, 2, 3, 'python'], 4.4: (4, 5, 6)}\n",
            "[1, 2, 3, 'python']\n",
            "python\n"
          ]
        }
      ]
    },
    {
      "cell_type": "code",
      "metadata": {
        "colab": {
          "base_uri": "https://localhost:8080/"
        },
        "id": "Rsre0jRAmf5l",
        "outputId": "9bd25728-0c04-4797-af9b-2431d02372ad"
      },
      "source": [
        "a_dict = {1:{1:[1,2,3,\"python\"], 4.4:(4,5,6)}}\n",
        "print(a_dict[1][4.4])\n",
        "print(a_dict[1][4.4][2])"
      ],
      "execution_count": null,
      "outputs": [
        {
          "output_type": "stream",
          "name": "stdout",
          "text": [
            "(4, 5, 6)\n",
            "6\n"
          ]
        }
      ]
    },
    {
      "cell_type": "code",
      "metadata": {
        "colab": {
          "base_uri": "https://localhost:8080/"
        },
        "id": "qq8bBk82lTeW",
        "outputId": "89344bf9-d290-4358-b495-b753fb597c28"
      },
      "source": [
        "a_list = [{1:[\"python\",\"java\",\"c\"]}, [2,(3,4,5), 6], \"javascript\"]\n",
        "print(a_list)\n",
        "print(a_list[0])\n",
        "print(a_list[1])\n",
        "print(a_list[2])"
      ],
      "execution_count": null,
      "outputs": [
        {
          "output_type": "stream",
          "name": "stdout",
          "text": [
            "[{1: ['python', 'java', 'c']}, [2, (3, 4, 5), 6], 'javascript']\n",
            "{1: ['python', 'java', 'c']}\n",
            "[2, (3, 4, 5), 6]\n",
            "javascript\n"
          ]
        }
      ]
    },
    {
      "cell_type": "code",
      "metadata": {
        "colab": {
          "base_uri": "https://localhost:8080/"
        },
        "id": "nZlVELtynwuv",
        "outputId": "17fd6ab8-9fcb-4453-de23-ddcf0f92032f"
      },
      "source": [
        "my_list = [{7:[\"python\",\"java\",\"c\"]}, [2,(3,4,5), 6], \"javascript\"]\n",
        "print(my_list[0][7][1])\n",
        "print(my_list[1][1][2])\n",
        "print(my_list[1][2])"
      ],
      "execution_count": null,
      "outputs": [
        {
          "output_type": "stream",
          "name": "stdout",
          "text": [
            "java\n",
            "5\n",
            "6\n"
          ]
        }
      ]
    },
    {
      "cell_type": "code",
      "metadata": {
        "colab": {
          "base_uri": "https://localhost:8080/"
        },
        "id": "TfgeYWS_o-Wy",
        "outputId": "fb871eaa-6c4a-495f-bbb0-d0fd50241537"
      },
      "source": [
        "a_tuple = (1,2,{1:[\"apple\",8]})\n",
        "print(a_tuple[0])\n",
        "print(a_tuple[1])\n",
        "print(a_tuple[2])\n",
        "print(a_tuple[2][1])"
      ],
      "execution_count": null,
      "outputs": [
        {
          "output_type": "stream",
          "name": "stdout",
          "text": [
            "1\n",
            "2\n",
            "{1: ['apple', 8]}\n",
            "['apple', 8]\n"
          ]
        }
      ]
    },
    {
      "cell_type": "code",
      "metadata": {
        "colab": {
          "base_uri": "https://localhost:8080/"
        },
        "id": "nBmwOkQDpW7f",
        "outputId": "ce7aa16c-8c4b-42c5-9439-1c0cc0128b49"
      },
      "source": [
        "my_tuple = (1,2,{3:[\"apple\",8]})\n",
        "print(my_tuple[2][3][0])"
      ],
      "execution_count": null,
      "outputs": [
        {
          "output_type": "stream",
          "name": "stdout",
          "text": [
            "apple\n"
          ]
        }
      ]
    }
  ]
}