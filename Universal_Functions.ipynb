{
  "nbformat": 4,
  "nbformat_minor": 0,
  "metadata": {
    "colab": {
      "name": "Universal Functions.ipynb",
      "provenance": [],
      "authorship_tag": "ABX9TyOA4GYzu87TuVm0Mr3YsHRd",
      "include_colab_link": true
    },
    "kernelspec": {
      "name": "python3",
      "display_name": "Python 3"
    },
    "language_info": {
      "name": "python"
    }
  },
  "cells": [
    {
      "cell_type": "markdown",
      "metadata": {
        "id": "view-in-github",
        "colab_type": "text"
      },
      "source": [
        "<a href=\"https://colab.research.google.com/github/Mehadi2012/Data-Science/blob/main/Universal_Functions.ipynb\" target=\"_parent\"><img src=\"https://colab.research.google.com/assets/colab-badge.svg\" alt=\"Open In Colab\"/></a>"
      ]
    },
    {
      "cell_type": "markdown",
      "metadata": {
        "id": "gCa9yqOblFdG"
      },
      "source": [
        "- \\+ np.add -> Addition(e.g., 1 + 1 = 2)\n",
        "- \\- np.subtract -> Subtraction(e.g., 2 - 1 = 1)\n",
        "- \\- np.negative -> Unary negative(e.g., -3)\n",
        "- \\* np.multiply -> Multiplication(e.g., 3 * 2 = 6)\n",
        "- / np.divide -> Division(e.g., 3 / 2 = 1.5)\n",
        "- // np.floor_divide -> Floor Division(e.g., 3 // 2 = 1)\n",
        "- \\** np.power -> Exponentiation(e.g., 2 ** 2 = 4)\n",
        "-  % np.mod -> Modulus/remainder(e.g., 9 % 4 = 1)"
      ]
    },
    {
      "cell_type": "code",
      "metadata": {
        "colab": {
          "base_uri": "https://localhost:8080/"
        },
        "id": "iltkB_PNm28t",
        "outputId": "60e24bd0-2fcb-4cfb-cb0f-acae42e9569e"
      },
      "source": [
        "import numpy as np\n",
        "an_array = np.arange(10)\n",
        "print(an_array)\n",
        "print(an_array + 2)\n",
        "print(an_array - 2)\n",
        "print(an_array * 2)\n",
        "print(an_array / 2)\n",
        "print(an_array // 2)\n",
        "print(an_array ** 2)\n",
        "print(an_array % 2)"
      ],
      "execution_count": 3,
      "outputs": [
        {
          "output_type": "stream",
          "name": "stdout",
          "text": [
            "[0 1 2 3 4 5 6 7 8 9]\n",
            "[ 2  3  4  5  6  7  8  9 10 11]\n",
            "[-2 -1  0  1  2  3  4  5  6  7]\n",
            "[ 0  2  4  6  8 10 12 14 16 18]\n",
            "[0.  0.5 1.  1.5 2.  2.5 3.  3.5 4.  4.5]\n",
            "[0 0 1 1 2 2 3 3 4 4]\n",
            "[ 0  1  4  9 16 25 36 49 64 81]\n",
            "[0 1 0 1 0 1 0 1 0 1]\n"
          ]
        }
      ]
    },
    {
      "cell_type": "markdown",
      "metadata": {
        "id": "u_JUzUjLoJH7"
      },
      "source": [
        "# Aggregation Functions"
      ]
    },
    {
      "cell_type": "code",
      "metadata": {
        "colab": {
          "base_uri": "https://localhost:8080/"
        },
        "id": "WTE2SAb_oL3q",
        "outputId": "79e3fd9e-76de-4093-cd85-e892dd6f52d5"
      },
      "source": [
        "an_array1 = np.array([1,2,3,4,5,6,7,8,9,10], dtype = float)\n",
        "print(an_array1)\n",
        "print(an_array1.max())\n",
        "print(an_array1.min())\n",
        "print(an_array1.sum())"
      ],
      "execution_count": 17,
      "outputs": [
        {
          "output_type": "stream",
          "name": "stdout",
          "text": [
            "[ 1.  2.  3.  4.  5.  6.  7.  8.  9. 10.]\n",
            "10.0\n",
            "1.0\n",
            "55.0\n"
          ]
        }
      ]
    },
    {
      "cell_type": "code",
      "metadata": {
        "colab": {
          "base_uri": "https://localhost:8080/"
        },
        "id": "9ZhCTOd1ov7V",
        "outputId": "6ba42a6e-8ea3-4d0d-a0ac-4fd34139fedf"
      },
      "source": [
        "my_array = np.array([[1,2,3,4,5],[6,7,8,9,10]], dtype=int)\n",
        "print(my_array)\n",
        "print(my_array.max(axis = 0)) # axis 0 indicates the column.\n",
        "print(my_array.max(axis = 1)) # axis 1 indicates the row"
      ],
      "execution_count": 15,
      "outputs": [
        {
          "output_type": "stream",
          "name": "stdout",
          "text": [
            "[[ 1  2  3  4  5]\n",
            " [ 6  7  8  9 10]]\n",
            "[ 6  7  8  9 10]\n",
            "[ 5 10]\n"
          ]
        }
      ]
    }
  ]
}