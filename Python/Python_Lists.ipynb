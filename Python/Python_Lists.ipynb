{
  "nbformat": 4,
  "nbformat_minor": 0,
  "metadata": {
    "colab": {
      "name": "Python Lists.ipynb",
      "provenance": [],
      "collapsed_sections": [],
      "authorship_tag": "ABX9TyOvoZG/f9rGGHOOwQnnvxcz",
      "include_colab_link": true
    },
    "kernelspec": {
      "name": "python3",
      "display_name": "Python 3"
    },
    "language_info": {
      "name": "python"
    }
  },
  "cells": [
    {
      "cell_type": "markdown",
      "metadata": {
        "id": "view-in-github",
        "colab_type": "text"
      },
      "source": [
        "<a href=\"https://colab.research.google.com/github/Mehadi2012/Data-Science/blob/main/Python_Lists.ipynb\" target=\"_parent\"><img src=\"https://colab.research.google.com/assets/colab-badge.svg\" alt=\"Open In Colab\"/></a>"
      ]
    },
    {
      "cell_type": "code",
      "metadata": {
        "colab": {
          "base_uri": "https://localhost:8080/"
        },
        "id": "idApySeleCUk",
        "outputId": "9978ffaf-4aea-4166-e4fa-d2573e06463e"
      },
      "source": [
        "mylist = [10,20,30,40,50,60]\n",
        "for item in mylist:\n",
        "  print(item)"
      ],
      "execution_count": null,
      "outputs": [
        {
          "output_type": "stream",
          "name": "stdout",
          "text": [
            "10\n",
            "20\n",
            "30\n",
            "40\n",
            "50\n",
            "60\n"
          ]
        }
      ]
    },
    {
      "cell_type": "code",
      "metadata": {
        "colab": {
          "base_uri": "https://localhost:8080/"
        },
        "id": "PGolua-UetfI",
        "outputId": "0372c4a9-781d-424b-cd7d-3d9dfa20242b"
      },
      "source": [
        "myList = [\"Mango\",\"Orange\",\"Banana\",1,2,3]\n",
        "for item in myList:\n",
        "  print(item)"
      ],
      "execution_count": null,
      "outputs": [
        {
          "output_type": "stream",
          "name": "stdout",
          "text": [
            "Mango\n",
            "Orange\n",
            "Banana\n",
            "1\n",
            "2\n",
            "3\n"
          ]
        }
      ]
    },
    {
      "cell_type": "markdown",
      "metadata": {
        "id": "ufeve_OtfcvN"
      },
      "source": [
        "# break statement"
      ]
    },
    {
      "cell_type": "code",
      "metadata": {
        "colab": {
          "base_uri": "https://localhost:8080/"
        },
        "id": "PTpYQGK9fNab",
        "outputId": "528b4c94-a646-47d6-8335-665c531bc71a"
      },
      "source": [
        "# break statement stops execution of the loop\n",
        "for item in myList:\n",
        "  if item == 1:\n",
        "    break\n",
        "  print(item)"
      ],
      "execution_count": null,
      "outputs": [
        {
          "output_type": "stream",
          "name": "stdout",
          "text": [
            "Mango\n",
            "Orange\n",
            "Banana\n"
          ]
        }
      ]
    },
    {
      "cell_type": "markdown",
      "metadata": {
        "id": "DnPmX1eyg014"
      },
      "source": [
        "# continue statement"
      ]
    },
    {
      "cell_type": "code",
      "metadata": {
        "colab": {
          "base_uri": "https://localhost:8080/"
        },
        "id": "BqxQqIsfgLAM",
        "outputId": "6398595c-f3da-47ba-ffe8-362c94435572"
      },
      "source": [
        "# continue to the next item without executing the lines occuring after continue inside the loop\n",
        "for item in myList:\n",
        "  if item == 1:\n",
        "    continue\n",
        "  print(item)"
      ],
      "execution_count": null,
      "outputs": [
        {
          "output_type": "stream",
          "name": "stdout",
          "text": [
            "Mango\n",
            "Orange\n",
            "Banana\n",
            "2\n",
            "3\n"
          ]
        }
      ]
    },
    {
      "cell_type": "markdown",
      "metadata": {
        "id": "7ESCpAzghbvS"
      },
      "source": [
        "# enumerate()"
      ]
    },
    {
      "cell_type": "code",
      "metadata": {
        "colab": {
          "base_uri": "https://localhost:8080/"
        },
        "id": "fQe8R5p1exhc",
        "outputId": "27621095-8c1a-47ed-b66a-7c202c7bfc85"
      },
      "source": [
        "newlist = [1,2,3,4,5,\"apple\",\"mango\"]\n",
        "for idx, val in enumerate(newlist):\n",
        "  print('index: {}, value: {}'.format(idx,val))"
      ],
      "execution_count": null,
      "outputs": [
        {
          "output_type": "stream",
          "name": "stdout",
          "text": [
            "index: 0, value: 1\n",
            "index: 1, value: 2\n",
            "index: 2, value: 3\n",
            "index: 3, value: 4\n",
            "index: 4, value: 5\n",
            "index: 5, value: apple\n",
            "index: 6, value: mango\n"
          ]
        }
      ]
    },
    {
      "cell_type": "code",
      "metadata": {
        "colab": {
          "base_uri": "https://localhost:8080/"
        },
        "id": "cyMvHFrbmwj2",
        "outputId": "35b58954-4282-470e-f290-94b03d445ab6"
      },
      "source": [
        "a = 2\n",
        "b = 3.0\n",
        "c = \"Data\"\n",
        "d = True\n",
        "a_list = [a,b,c,d]\n",
        "print(a_list)\n",
        "print(type(a_list))"
      ],
      "execution_count": null,
      "outputs": [
        {
          "output_type": "stream",
          "name": "stdout",
          "text": [
            "[2, 3.0, 'Data', True]\n",
            "<class 'list'>\n"
          ]
        }
      ]
    },
    {
      "cell_type": "markdown",
      "metadata": {
        "id": "kx7Gj_gKnLOM"
      },
      "source": [
        "# Mutability"
      ]
    },
    {
      "cell_type": "code",
      "metadata": {
        "colab": {
          "base_uri": "https://localhost:8080/"
        },
        "id": "6xGkG4-knRG2",
        "outputId": "b7b655c6-125a-4d3c-b678-b9d8c10f8f9c"
      },
      "source": [
        "a_new_list = [1,2,3,4]\n",
        "a_new_list[0]= \"Hello\"\n",
        "print(a_new_list)"
      ],
      "execution_count": null,
      "outputs": [
        {
          "output_type": "stream",
          "name": "stdout",
          "text": [
            "['Hello', 2, 3, 4]\n"
          ]
        }
      ]
    },
    {
      "cell_type": "markdown",
      "metadata": {
        "id": "WMaXIxlgAevC"
      },
      "source": [
        "# Slicing"
      ]
    },
    {
      "cell_type": "code",
      "metadata": {
        "colab": {
          "base_uri": "https://localhost:8080/"
        },
        "id": "MJAM_OfoAgCI",
        "outputId": "a1f85ac6-1836-4572-edb7-a2cf5df6e036"
      },
      "source": [
        "list1 = [1,2,3,\"Python\",\"Java\"]\n",
        "print(list1[0:3]) #here the end index is not included, means it will print from index 0 to index 2.\n",
        "print(list1[3:6])"
      ],
      "execution_count": null,
      "outputs": [
        {
          "output_type": "stream",
          "name": "stdout",
          "text": [
            "[1, 2, 3]\n",
            "['Python', 'Java']\n"
          ]
        }
      ]
    },
    {
      "cell_type": "markdown",
      "metadata": {
        "id": "qvmjGUvrBrVU"
      },
      "source": [
        "# Negative Slicing"
      ]
    },
    {
      "cell_type": "code",
      "metadata": {
        "colab": {
          "base_uri": "https://localhost:8080/"
        },
        "id": "C_xXhtGDBtQq",
        "outputId": "7b17f351-7951-48cc-b5e7-9927c984680c"
      },
      "source": [
        "list2 = [4,5,6,\"Javascript\",\"C\"]\n",
        "print(list2[-1]) # Here -1 indicate the last index and the more we move left from the last index it would go like -2,-3,-4 and so on.\n",
        "print(list2[-5:-2])"
      ],
      "execution_count": null,
      "outputs": [
        {
          "output_type": "stream",
          "name": "stdout",
          "text": [
            "C\n",
            "[4, 5, 6]\n"
          ]
        }
      ]
    }
  ]
}
