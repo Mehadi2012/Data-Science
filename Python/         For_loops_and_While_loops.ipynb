{
  "nbformat": 4,
  "nbformat_minor": 0,
  "metadata": {
    "colab": {
      "name": "For loops and While loops.ipynb",
      "provenance": [],
      "authorship_tag": "ABX9TyM/HXxgifrxdB5jdhWq9+xM",
      "include_colab_link": true
    },
    "kernelspec": {
      "name": "python3",
      "display_name": "Python 3"
    },
    "language_info": {
      "name": "python"
    }
  },
  "cells": [
    {
      "cell_type": "markdown",
      "metadata": {
        "id": "view-in-github",
        "colab_type": "text"
      },
      "source": [
        "<a href=\"https://colab.research.google.com/github/Mehadi2012/Data-Science/blob/main/For_loops_and_While_loops.ipynb\" target=\"_parent\"><img src=\"https://colab.research.google.com/assets/colab-badge.svg\" alt=\"Open In Colab\"/></a>"
      ]
    },
    {
      "cell_type": "markdown",
      "metadata": {
        "id": "Zu6BwgrUcE2P"
      },
      "source": [
        "# While"
      ]
    },
    {
      "cell_type": "code",
      "metadata": {
        "colab": {
          "base_uri": "https://localhost:8080/"
        },
        "id": "kqbpMTsrbMXX",
        "outputId": "4fc64117-abe1-4779-a4bc-1ac1327bad8e"
      },
      "source": [
        "x = 0\n",
        "while x < 3:\n",
        "  print(\"Life is beautiful\")\n",
        "  x = x+1"
      ],
      "execution_count": null,
      "outputs": [
        {
          "output_type": "stream",
          "name": "stdout",
          "text": [
            "Life is beautiful\n",
            "Life is beautiful\n",
            "Life is beautiful\n"
          ]
        }
      ]
    },
    {
      "cell_type": "markdown",
      "metadata": {
        "id": "22CT8Rt-derM"
      },
      "source": [
        "# For"
      ]
    },
    {
      "cell_type": "code",
      "metadata": {
        "colab": {
          "base_uri": "https://localhost:8080/"
        },
        "id": "irCQodRlcGg9",
        "outputId": "df8de057-d713-4a04-dace-a16f01b17ac4"
      },
      "source": [
        "for i in range(3):\n",
        "  print(\"Life is beautiful\")"
      ],
      "execution_count": null,
      "outputs": [
        {
          "output_type": "stream",
          "name": "stdout",
          "text": [
            "Life is beautiful\n",
            "Life is beautiful\n",
            "Life is beautiful\n"
          ]
        }
      ]
    }
  ]
}
