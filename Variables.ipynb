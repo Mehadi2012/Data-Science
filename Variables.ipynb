{
  "nbformat": 4,
  "nbformat_minor": 0,
  "metadata": {
    "colab": {
      "name": "Variables.ipynb",
      "provenance": [],
      "authorship_tag": "ABX9TyPtlaUHNFTx5gg+OJSqe+8j",
      "include_colab_link": true
    },
    "kernelspec": {
      "name": "python3",
      "display_name": "Python 3"
    },
    "language_info": {
      "name": "python"
    }
  },
  "cells": [
    {
      "cell_type": "markdown",
      "metadata": {
        "id": "view-in-github",
        "colab_type": "text"
      },
      "source": [
        "<a href=\"https://colab.research.google.com/github/Mehadi2012/Data-Science/blob/main/Variables.ipynb\" target=\"_parent\"><img src=\"https://colab.research.google.com/assets/colab-badge.svg\" alt=\"Open In Colab\"/></a>"
      ]
    },
    {
      "cell_type": "markdown",
      "metadata": {
        "id": "ChJERRYRfwrX"
      },
      "source": [
        "## Variable"
      ]
    },
    {
      "cell_type": "code",
      "metadata": {
        "colab": {
          "base_uri": "https://localhost:8080/"
        },
        "id": "jsvJDuM2fe32",
        "outputId": "c9874cda-fea9-454f-9bb3-a5fb7303e1b8"
      },
      "source": [
        "a = 9\n",
        "a"
      ],
      "execution_count": 2,
      "outputs": [
        {
          "output_type": "execute_result",
          "data": {
            "text/plain": [
              "9"
            ]
          },
          "metadata": {},
          "execution_count": 2
        }
      ]
    },
    {
      "cell_type": "code",
      "metadata": {
        "colab": {
          "base_uri": "https://localhost:8080/"
        },
        "id": "l0n27mORiLIN",
        "outputId": "6525a03d-49e6-40f2-b677-2131dd565bb4"
      },
      "source": [
        "a = 2\n",
        "a"
      ],
      "execution_count": 3,
      "outputs": [
        {
          "output_type": "execute_result",
          "data": {
            "text/plain": [
              "2"
            ]
          },
          "metadata": {},
          "execution_count": 3
        }
      ]
    },
    {
      "cell_type": "code",
      "metadata": {
        "colab": {
          "base_uri": "https://localhost:8080/"
        },
        "id": "G8wsIAWAil2D",
        "outputId": "c52c4020-0e75-4534-d95b-e64bc45c49c6"
      },
      "source": [
        "x = 33\n",
        "y = 20\n",
        "x = y\n",
        "x"
      ],
      "execution_count": 4,
      "outputs": [
        {
          "output_type": "execute_result",
          "data": {
            "text/plain": [
              "20"
            ]
          },
          "metadata": {},
          "execution_count": 4
        }
      ]
    },
    {
      "cell_type": "code",
      "metadata": {
        "colab": {
          "base_uri": "https://localhost:8080/"
        },
        "id": "IUvf_P-Gix8X",
        "outputId": "a55a564b-e89d-4a40-a850-debb93731d8c"
      },
      "source": [
        "y"
      ],
      "execution_count": 5,
      "outputs": [
        {
          "output_type": "execute_result",
          "data": {
            "text/plain": [
              "20"
            ]
          },
          "metadata": {},
          "execution_count": 5
        }
      ]
    },
    {
      "cell_type": "code",
      "metadata": {
        "id": "aL9FEgqIjN48"
      },
      "source": [
        ""
      ],
      "execution_count": null,
      "outputs": []
    },
    {
      "cell_type": "markdown",
      "metadata": {
        "id": "KBqSCmy2jWCb"
      },
      "source": [
        "# Naming of variables"
      ]
    },
    {
      "cell_type": "markdown",
      "metadata": {
        "id": "k9U-rVxijaKO"
      },
      "source": [
        "## Case Sensitive"
      ]
    },
    {
      "cell_type": "code",
      "metadata": {
        "colab": {
          "base_uri": "https://localhost:8080/"
        },
        "id": "DZo9lvE8jdGi",
        "outputId": "ff8c27d7-ebad-48e7-a16f-9dffa4d3f073"
      },
      "source": [
        "a = 30\n",
        "a"
      ],
      "execution_count": 6,
      "outputs": [
        {
          "output_type": "execute_result",
          "data": {
            "text/plain": [
              "30"
            ]
          },
          "metadata": {},
          "execution_count": 6
        }
      ]
    },
    {
      "cell_type": "code",
      "metadata": {
        "colab": {
          "base_uri": "https://localhost:8080/"
        },
        "id": "KG1HVPoekM9S",
        "outputId": "df60f9bc-23fd-4c57-cd0c-6c9b357852aa"
      },
      "source": [
        "A = 40\n",
        "A"
      ],
      "execution_count": 7,
      "outputs": [
        {
          "output_type": "execute_result",
          "data": {
            "text/plain": [
              "40"
            ]
          },
          "metadata": {},
          "execution_count": 7
        }
      ]
    },
    {
      "cell_type": "code",
      "metadata": {
        "colab": {
          "base_uri": "https://localhost:8080/"
        },
        "id": "RX6EAHpSkRUt",
        "outputId": "51fcbb51-5a5b-4890-9bde-3b14662419f5"
      },
      "source": [
        "a"
      ],
      "execution_count": 8,
      "outputs": [
        {
          "output_type": "execute_result",
          "data": {
            "text/plain": [
              "30"
            ]
          },
          "metadata": {},
          "execution_count": 8
        }
      ]
    },
    {
      "cell_type": "markdown",
      "metadata": {
        "id": "_q8I2_LUkm7P"
      },
      "source": [
        "##Varibale Naming"
      ]
    },
    {
      "cell_type": "code",
      "metadata": {
        "colab": {
          "base_uri": "https://localhost:8080/"
        },
        "id": "gC2GioHNkpfW",
        "outputId": "67b6bdd0-704f-40bf-fee5-1445f8397820"
      },
      "source": [
        "num1 = 7\n",
        "num2 = 8\n",
        "num1"
      ],
      "execution_count": 10,
      "outputs": [
        {
          "output_type": "execute_result",
          "data": {
            "text/plain": [
              "7"
            ]
          },
          "metadata": {},
          "execution_count": 10
        }
      ]
    },
    {
      "cell_type": "code",
      "metadata": {
        "colab": {
          "base_uri": "https://localhost:8080/"
        },
        "id": "tgBc3TrXky-Y",
        "outputId": "34c943a5-161d-4a7b-894c-d5e99f18b8c2"
      },
      "source": [
        "num2"
      ],
      "execution_count": 11,
      "outputs": [
        {
          "output_type": "execute_result",
          "data": {
            "text/plain": [
              "8"
            ]
          },
          "metadata": {},
          "execution_count": 11
        }
      ]
    },
    {
      "cell_type": "code",
      "metadata": {
        "colab": {
          "base_uri": "https://localhost:8080/"
        },
        "id": "81dFDHvpk2ZE",
        "outputId": "f9256305-9c5d-45b1-a127-a6946f0a9601"
      },
      "source": [
        "num1+num2"
      ],
      "execution_count": 12,
      "outputs": [
        {
          "output_type": "execute_result",
          "data": {
            "text/plain": [
              "15"
            ]
          },
          "metadata": {},
          "execution_count": 12
        }
      ]
    },
    {
      "cell_type": "markdown",
      "metadata": {
        "id": "gqXwh-WalBF-"
      },
      "source": [
        "# Output Function"
      ]
    },
    {
      "cell_type": "code",
      "metadata": {
        "colab": {
          "base_uri": "https://localhost:8080/"
        },
        "id": "G_u1gzwNlD1g",
        "outputId": "8e149d1e-36b8-4fa1-f6c2-d16d6a97b8a8"
      },
      "source": [
        "a = 30\n",
        "print(a)"
      ],
      "execution_count": 13,
      "outputs": [
        {
          "output_type": "stream",
          "name": "stdout",
          "text": [
            "30\n"
          ]
        }
      ]
    },
    {
      "cell_type": "code",
      "metadata": {
        "colab": {
          "base_uri": "https://localhost:8080/"
        },
        "id": "9Wa8jMdXlJ4s",
        "outputId": "624984b8-e67d-4e5c-e668-2b9f64a1de3f"
      },
      "source": [
        "x = 10\n",
        "y = 20\n",
        "print(x+y)"
      ],
      "execution_count": 14,
      "outputs": [
        {
          "output_type": "stream",
          "name": "stdout",
          "text": [
            "30\n"
          ]
        }
      ]
    },
    {
      "cell_type": "code",
      "metadata": {
        "colab": {
          "base_uri": "https://localhost:8080/"
        },
        "id": "1aHcgjB3lTOA",
        "outputId": "dbfd7cdb-0880-4bd6-a574-f1a182cfe98f"
      },
      "source": [
        "x,y = 1,2\n",
        "print(x,y)"
      ],
      "execution_count": 15,
      "outputs": [
        {
          "output_type": "stream",
          "name": "stdout",
          "text": [
            "1 2\n"
          ]
        }
      ]
    },
    {
      "cell_type": "code",
      "metadata": {
        "colab": {
          "base_uri": "https://localhost:8080/"
        },
        "id": "G3iHDBUjoo6X",
        "outputId": "0572d2f6-7c37-45da-880a-e131fab2963e"
      },
      "source": [
        "print(\"This is really a cool function\")"
      ],
      "execution_count": 16,
      "outputs": [
        {
          "output_type": "stream",
          "name": "stdout",
          "text": [
            "This is really a cool function\n"
          ]
        }
      ]
    },
    {
      "cell_type": "code",
      "metadata": {
        "colab": {
          "base_uri": "https://localhost:8080/"
        },
        "id": "uXsjZN28ozc6",
        "outputId": "8a53c5bc-c5ee-4e7b-c946-0398ab747529"
      },
      "source": [
        "num = 20\n",
        "age = str(num)\n",
        "name = 'Mehadi'\n",
        "print('My name is '+ name + ' and I\\'m ' + age + ' years old.')"
      ],
      "execution_count": 27,
      "outputs": [
        {
          "output_type": "stream",
          "name": "stdout",
          "text": [
            "My name is Mehadi and I'm 20 years old.\n"
          ]
        }
      ]
    },
    {
      "cell_type": "code",
      "metadata": {
        "colab": {
          "base_uri": "https://localhost:8080/"
        },
        "id": "icUHToUwqjZY",
        "outputId": "0e9598a3-a6c3-4f0f-881a-7ebdc0c1c02c"
      },
      "source": [
        "print('My name is', name , 'and I\\'m' , num , 'years old.')"
      ],
      "execution_count": 33,
      "outputs": [
        {
          "output_type": "stream",
          "name": "stdout",
          "text": [
            "My name is Mehadi and I'm 20 years old.\n"
          ]
        }
      ]
    },
    {
      "cell_type": "code",
      "metadata": {
        "colab": {
          "base_uri": "https://localhost:8080/"
        },
        "id": "cudl7oUoqIMT",
        "outputId": "39469831-5803-4943-d49a-5d1960333872"
      },
      "source": [
        "print(\"My id is\", 123)"
      ],
      "execution_count": 25,
      "outputs": [
        {
          "output_type": "stream",
          "name": "stdout",
          "text": [
            "My id is 123\n"
          ]
        }
      ]
    },
    {
      "cell_type": "code",
      "metadata": {
        "colab": {
          "base_uri": "https://localhost:8080/"
        },
        "id": "00qMuMIiqRaD",
        "outputId": "aa71c0a3-d4e9-4293-b068-fc7bd8b0b828"
      },
      "source": [
        "print(\"my age is\", age)"
      ],
      "execution_count": 28,
      "outputs": [
        {
          "output_type": "stream",
          "name": "stdout",
          "text": [
            "my age is 20\n"
          ]
        }
      ]
    }
  ]
}