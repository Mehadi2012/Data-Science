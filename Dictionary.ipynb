{
  "nbformat": 4,
  "nbformat_minor": 0,
  "metadata": {
    "colab": {
      "name": "Dictionary.ipynb",
      "provenance": [],
      "authorship_tag": "ABX9TyMZfzM6tt9zRxB9veSijqPW",
      "include_colab_link": true
    },
    "kernelspec": {
      "name": "python3",
      "display_name": "Python 3"
    },
    "language_info": {
      "name": "python"
    }
  },
  "cells": [
    {
      "cell_type": "markdown",
      "metadata": {
        "id": "view-in-github",
        "colab_type": "text"
      },
      "source": [
        "<a href=\"https://colab.research.google.com/github/Mehadi2012/Data-Science/blob/main/Dictionary.ipynb\" target=\"_parent\"><img src=\"https://colab.research.google.com/assets/colab-badge.svg\" alt=\"Open In Colab\"/></a>"
      ]
    },
    {
      "cell_type": "code",
      "metadata": {
        "colab": {
          "base_uri": "https://localhost:8080/"
        },
        "id": "770fU_qKKeum",
        "outputId": "7c81cb71-c5ca-40bc-b64b-28256ade557d"
      },
      "source": [
        "a_dict = {}\n",
        "print(a_dict)\n",
        "print(type(a_dict))"
      ],
      "execution_count": null,
      "outputs": [
        {
          "output_type": "stream",
          "name": "stdout",
          "text": [
            "{}\n",
            "<class 'dict'>\n"
          ]
        }
      ]
    },
    {
      "cell_type": "code",
      "metadata": {
        "colab": {
          "base_uri": "https://localhost:8080/"
        },
        "id": "6Uy6EML1ZNzv",
        "outputId": "7f465679-c8a1-480e-d214-796ffb489bf7"
      },
      "source": [
        "new_dict = {\"python\":1, \"java\":2,\"javascript\":3}\n",
        "print(new_dict)\n",
        "print(type(new_dict))\n",
        "print(new_dict[\"python\"])"
      ],
      "execution_count": null,
      "outputs": [
        {
          "output_type": "stream",
          "name": "stdout",
          "text": [
            "{'python': 1, 'java': 2, 'javascript': 3}\n",
            "<class 'dict'>\n",
            "1\n"
          ]
        }
      ]
    },
    {
      "cell_type": "code",
      "metadata": {
        "colab": {
          "base_uri": "https://localhost:8080/"
        },
        "id": "MGUdDuDsaBmH",
        "outputId": "00d08468-c3c4-48df-b1e9-1b479a97039b"
      },
      "source": [
        "dict1 = {\"apple\":4, \"mango\":10, \"banana\":9,\"apple\":7}\n",
        "print(dict1) # dictionary always contains the latest key if there is a key which is not unique"
      ],
      "execution_count": null,
      "outputs": [
        {
          "output_type": "stream",
          "name": "stdout",
          "text": [
            "{'apple': 7, 'mango': 10, 'banana': 9}\n"
          ]
        }
      ]
    },
    {
      "cell_type": "markdown",
      "metadata": {
        "id": "b6W6dwEha83M"
      },
      "source": [
        "# How to check a key if it exists"
      ]
    },
    {
      "cell_type": "code",
      "metadata": {
        "colab": {
          "base_uri": "https://localhost:8080/"
        },
        "id": "xqVbzHY9bASw",
        "outputId": "0d9c32de-7ed0-4560-ca71-b59f84eaa759"
      },
      "source": [
        "dict2 = {\"apple\":4, \"mango\":10, \"banana\":9}\n",
        "print(\"banana\" in dict2)\n",
        "print(\"lemon\" in dict2)"
      ],
      "execution_count": null,
      "outputs": [
        {
          "output_type": "stream",
          "name": "stdout",
          "text": [
            "True\n",
            "False\n"
          ]
        }
      ]
    },
    {
      "cell_type": "markdown",
      "metadata": {
        "id": "FMR4poTFbeR5"
      },
      "source": [
        "# How to find a value of a specific key without an error"
      ]
    },
    {
      "cell_type": "code",
      "metadata": {
        "colab": {
          "base_uri": "https://localhost:8080/"
        },
        "id": "CehuXFVQbiOz",
        "outputId": "04058044-5ee7-487a-ef67-017cf6351209"
      },
      "source": [
        "dict3 = {\"mango\":10, \"banana\":9,\"apple\":7}\n",
        "print (dict3.get(\"mango\")) # Here we used a get function\n",
        "print (dict3.get(\"lemon\"))"
      ],
      "execution_count": null,
      "outputs": [
        {
          "output_type": "stream",
          "name": "stdout",
          "text": [
            "10\n",
            "None\n"
          ]
        }
      ]
    },
    {
      "cell_type": "markdown",
      "metadata": {
        "id": "VJ7b4rC0cl2B"
      },
      "source": [
        "# Dictionary Functions"
      ]
    },
    {
      "cell_type": "code",
      "metadata": {
        "colab": {
          "base_uri": "https://localhost:8080/"
        },
        "id": "EzqdZ1BpcQKr",
        "outputId": "bf12a0b5-d43b-41e8-ed00-88e6b8b8f87a"
      },
      "source": [
        "dict3.keys() # keys function which gets all the keys from the dictionary"
      ],
      "execution_count": null,
      "outputs": [
        {
          "output_type": "execute_result",
          "data": {
            "text/plain": [
              "dict_keys(['mango', 'banana', 'apple'])"
            ]
          },
          "metadata": {},
          "execution_count": 22
        }
      ]
    },
    {
      "cell_type": "code",
      "metadata": {
        "colab": {
          "base_uri": "https://localhost:8080/"
        },
        "id": "30vh1pdScoOI",
        "outputId": "98836517-028f-44ac-b7a1-12fc9874d8d7"
      },
      "source": [
        "dict3.values() # values function which gets all the values from the dictionary"
      ],
      "execution_count": null,
      "outputs": [
        {
          "output_type": "execute_result",
          "data": {
            "text/plain": [
              "dict_values([10, 9, 7])"
            ]
          },
          "metadata": {},
          "execution_count": 23
        }
      ]
    },
    {
      "cell_type": "code",
      "metadata": {
        "colab": {
          "base_uri": "https://localhost:8080/"
        },
        "id": "u0H4TRhYdjIm",
        "outputId": "4a2dda32-c4a5-4348-901d-d720415dacba"
      },
      "source": [
        "dict4 = {\"mango\":10, \"banana\":9,\"apple\":7}\n",
        "print(dict4)\n",
        "dict4.clear() # clear function which removes all the keys and values from the dictionary\n",
        "print(dict4)"
      ],
      "execution_count": null,
      "outputs": [
        {
          "output_type": "stream",
          "name": "stdout",
          "text": [
            "{'mango': 10, 'banana': 9, 'apple': 7}\n",
            "{}\n"
          ]
        }
      ]
    },
    {
      "cell_type": "code",
      "metadata": {
        "colab": {
          "base_uri": "https://localhost:8080/"
        },
        "id": "n_JzBUnKeOir",
        "outputId": "da449132-b463-4b5e-ac00-77fe0e9e9af2"
      },
      "source": [
        "dict3 = {\"mango\":10, \"banana\":9,\"apple\":7}\n",
        "dict5 = dict3.copy() # copy function which copies all the keys and values from a dictionary\n",
        "print(dict3)\n",
        "print(dict5)"
      ],
      "execution_count": null,
      "outputs": [
        {
          "output_type": "stream",
          "name": "stdout",
          "text": [
            "{'mango': 10, 'banana': 9, 'apple': 7}\n",
            "{'mango': 10, 'banana': 9, 'apple': 7}\n"
          ]
        }
      ]
    },
    {
      "cell_type": "code",
      "metadata": {
        "colab": {
          "base_uri": "https://localhost:8080/"
        },
        "id": "vBt2M8CPfD1B",
        "outputId": "bfca7750-0dcc-4717-e520-26d186d2755e"
      },
      "source": [
        "dict3 = {\"mango\":10, \"banana\":9,\"apple\":7}\n",
        "print(dict3)\n",
        "key_list = [\"mango\",\"apple\"]\n",
        "dict6 = dict3.fromkeys(key_list,[3,4])\n",
        "print(dict6)"
      ],
      "execution_count": null,
      "outputs": [
        {
          "output_type": "stream",
          "name": "stdout",
          "text": [
            "{'mango': 10, 'banana': 9, 'apple': 7}\n",
            "{'mango': [3, 4], 'apple': [3, 4]}\n"
          ]
        }
      ]
    },
    {
      "cell_type": "code",
      "metadata": {
        "colab": {
          "base_uri": "https://localhost:8080/"
        },
        "id": "XRzpjsQofQw1",
        "outputId": "0e09621f-90cc-4423-b924-953f183795a3"
      },
      "source": [
        "print(dict3)\n",
        "print(dict3.items())"
      ],
      "execution_count": null,
      "outputs": [
        {
          "output_type": "stream",
          "name": "stdout",
          "text": [
            "{'mango': 10, 'banana': 9, 'apple': 7}\n",
            "dict_items([('mango', 10), ('banana', 9), ('apple', 7)])\n"
          ]
        }
      ]
    },
    {
      "cell_type": "markdown",
      "metadata": {
        "id": "7ePl-QTThNzn"
      },
      "source": [
        "# Looping through dictionary"
      ]
    },
    {
      "cell_type": "code",
      "metadata": {
        "colab": {
          "base_uri": "https://localhost:8080/"
        },
        "id": "XR2TsvgqhQj3",
        "outputId": "a561290d-0deb-4af8-9288-dbedd801a553"
      },
      "source": [
        "final_dict = {\"Apple\":[10,12], \"Mango\":20, \"Lemon\": 15, \"Banana\": 30}\n",
        "for x,y in final_dict.items():\n",
        "  print(x,y)"
      ],
      "execution_count": null,
      "outputs": [
        {
          "output_type": "stream",
          "name": "stdout",
          "text": [
            "Apple [10, 12]\n",
            "Mango 20\n",
            "Lemon 15\n",
            "Banana 30\n"
          ]
        }
      ]
    }
  ]
}