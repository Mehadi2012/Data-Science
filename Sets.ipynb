{
  "nbformat": 4,
  "nbformat_minor": 0,
  "metadata": {
    "colab": {
      "name": "Sets.ipynb",
      "provenance": [],
      "authorship_tag": "ABX9TyP/QSEW5xOQC4doFwlaeXrJ",
      "include_colab_link": true
    },
    "kernelspec": {
      "name": "python3",
      "display_name": "Python 3"
    },
    "language_info": {
      "name": "python"
    }
  },
  "cells": [
    {
      "cell_type": "markdown",
      "metadata": {
        "id": "view-in-github",
        "colab_type": "text"
      },
      "source": [
        "<a href=\"https://colab.research.google.com/github/Mehadi2012/Data-Science/blob/main/Sets.ipynb\" target=\"_parent\"><img src=\"https://colab.research.google.com/assets/colab-badge.svg\" alt=\"Open In Colab\"/></a>"
      ]
    },
    {
      "cell_type": "markdown",
      "metadata": {
        "id": "WZ28iHE9Z3ie"
      },
      "source": [
        "# Set\n",
        "- The elements of set have to be unique\n",
        "- Set can not be indexed \n",
        "- Set doesnt have order \n",
        "- Set is mutable"
      ]
    },
    {
      "cell_type": "code",
      "metadata": {
        "colab": {
          "base_uri": "https://localhost:8080/"
        },
        "id": "q_wm6Fpman2W",
        "outputId": "5d560221-0529-4de2-97f7-f387e42eb3a9"
      },
      "source": [
        "set1 = {1,2,3,4.4,\"python\"}\n",
        "print(set1)"
      ],
      "execution_count": null,
      "outputs": [
        {
          "output_type": "stream",
          "name": "stdout",
          "text": [
            "{1, 2, 3, 4.4, 'python'}\n"
          ]
        }
      ]
    },
    {
      "cell_type": "code",
      "metadata": {
        "colab": {
          "base_uri": "https://localhost:8080/"
        },
        "id": "81HORmcYgcKI",
        "outputId": "a807946b-0f2b-4f6e-cc5b-bd4784266981"
      },
      "source": [
        "a_set = {1,2,3,1,2}\n",
        "print(a_set) # Duplicated values are dropped"
      ],
      "execution_count": null,
      "outputs": [
        {
          "output_type": "stream",
          "name": "stdout",
          "text": [
            "{1, 2, 3}\n"
          ]
        }
      ]
    },
    {
      "cell_type": "code",
      "metadata": {
        "colab": {
          "base_uri": "https://localhost:8080/"
        },
        "id": "BvoMnItTgtKZ",
        "outputId": "a2ddafbf-dbd9-458d-8010-bbdbdd7dbdaf"
      },
      "source": [
        "a_set.add(4)\n",
        "print(a_set) # add function adds a new value to the right of the set"
      ],
      "execution_count": null,
      "outputs": [
        {
          "output_type": "stream",
          "name": "stdout",
          "text": [
            "{1, 2, 3, 4}\n"
          ]
        }
      ]
    },
    {
      "cell_type": "code",
      "metadata": {
        "colab": {
          "base_uri": "https://localhost:8080/"
        },
        "id": "aHYSjfcXhCx_",
        "outputId": "764af986-54e6-455e-ed3f-bc344cab3ef3"
      },
      "source": [
        "a_set.pop()\n",
        "print(a_set) # pop function delete the first value of the set\n",
        "a_set.pop()\n",
        "print(a_set)"
      ],
      "execution_count": null,
      "outputs": [
        {
          "output_type": "stream",
          "name": "stdout",
          "text": [
            "{2, 3, 4}\n",
            "{3, 4}\n"
          ]
        }
      ]
    }
  ]
}