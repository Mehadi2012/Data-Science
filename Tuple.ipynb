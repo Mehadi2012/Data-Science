{
  "nbformat": 4,
  "nbformat_minor": 0,
  "metadata": {
    "colab": {
      "name": "Tuple.ipynb",
      "provenance": [],
      "authorship_tag": "ABX9TyOBapaKdIkuQW0uScu6IzND",
      "include_colab_link": true
    },
    "kernelspec": {
      "name": "python3",
      "display_name": "Python 3"
    },
    "language_info": {
      "name": "python"
    }
  },
  "cells": [
    {
      "cell_type": "markdown",
      "metadata": {
        "id": "view-in-github",
        "colab_type": "text"
      },
      "source": [
        "<a href=\"https://colab.research.google.com/github/Mehadi2012/Data-Science/blob/main/Tuple.ipynb\" target=\"_parent\"><img src=\"https://colab.research.google.com/assets/colab-badge.svg\" alt=\"Open In Colab\"/></a>"
      ]
    },
    {
      "cell_type": "code",
      "metadata": {
        "colab": {
          "base_uri": "https://localhost:8080/"
        },
        "id": "DEs51odVDZ5n",
        "outputId": "3d2ce9b4-0250-453a-da15-46d3e716169f"
      },
      "source": [
        "a_tuple = (1,2,3)\n",
        "print(type(a_tuple))\n",
        "print(a_tuple[0])"
      ],
      "execution_count": null,
      "outputs": [
        {
          "output_type": "stream",
          "name": "stdout",
          "text": [
            "<class 'tuple'>\n",
            "1\n"
          ]
        }
      ]
    },
    {
      "cell_type": "markdown",
      "metadata": {
        "id": "qH-XC_RnE-lc"
      },
      "source": [
        "# Empty Tuple"
      ]
    },
    {
      "cell_type": "code",
      "metadata": {
        "colab": {
          "base_uri": "https://localhost:8080/"
        },
        "id": "EHgvEM_PE90Y",
        "outputId": "c2a5bd7d-d6e4-487f-cddb-7037410a9adc"
      },
      "source": [
        "empty_tuple = ()\n",
        "print(empty_tuple)\n",
        "print(len(empty_tuple))\n",
        "print(type(empty_tuple))"
      ],
      "execution_count": null,
      "outputs": [
        {
          "output_type": "stream",
          "name": "stdout",
          "text": [
            "()\n",
            "0\n",
            "<class 'tuple'>\n"
          ]
        }
      ]
    },
    {
      "cell_type": "markdown",
      "metadata": {
        "id": "KWv39TFSGT-X"
      },
      "source": [
        "# Tuples with one element"
      ]
    },
    {
      "cell_type": "code",
      "metadata": {
        "colab": {
          "base_uri": "https://localhost:8080/"
        },
        "id": "w-CZzrlsGStA",
        "outputId": "82d09ade-f7c2-48da-9759-28e322ee7267"
      },
      "source": [
        "one_tuple = (\"python\")\n",
        "one_tuple2 = (1)\n",
        "print(type(one_tuple))\n",
        "print(type(one_tuple2))"
      ],
      "execution_count": null,
      "outputs": [
        {
          "output_type": "stream",
          "name": "stdout",
          "text": [
            "<class 'str'>\n",
            "<class 'int'>\n"
          ]
        }
      ]
    },
    {
      "cell_type": "markdown",
      "metadata": {
        "id": "-LOBmXnYG5nt"
      },
      "source": [
        "# use trailing comma to make a tuple with one element from data type of class/string to data type of tuple"
      ]
    },
    {
      "cell_type": "code",
      "metadata": {
        "colab": {
          "base_uri": "https://localhost:8080/"
        },
        "id": "u4oN2ba2FAy3",
        "outputId": "2749c1c0-7170-4778-f8a5-6100ca492490"
      },
      "source": [
        "tuple1 = (\"python\"),\n",
        "tuple2 = (1),\n",
        "print(type(tuple1))\n",
        "print(type(tuple2))"
      ],
      "execution_count": null,
      "outputs": [
        {
          "output_type": "stream",
          "name": "stdout",
          "text": [
            "<class 'tuple'>\n",
            "<class 'tuple'>\n"
          ]
        }
      ]
    },
    {
      "cell_type": "markdown",
      "metadata": {
        "id": "CXDZ6RX2Hutx"
      },
      "source": [
        "# Tuple packing"
      ]
    },
    {
      "cell_type": "code",
      "metadata": {
        "colab": {
          "base_uri": "https://localhost:8080/"
        },
        "id": "yMawbuFMHxUb",
        "outputId": "16a6394f-ca42-4c23-e5b0-2ddc946cbe2a"
      },
      "source": [
        "tuple3 = 1,2,3,\"python\"\n",
        "print (tuple3)\n",
        "print(type(tuple3))"
      ],
      "execution_count": null,
      "outputs": [
        {
          "output_type": "stream",
          "name": "stdout",
          "text": [
            "(1, 2, 3, 'python')\n",
            "<class 'tuple'>\n"
          ]
        }
      ]
    },
    {
      "cell_type": "markdown",
      "metadata": {
        "id": "Olp9tw07II9P"
      },
      "source": [
        "# Sequence unpacking"
      ]
    },
    {
      "cell_type": "code",
      "metadata": {
        "colab": {
          "base_uri": "https://localhost:8080/"
        },
        "id": "JqyATE-3IMWW",
        "outputId": "93853f5d-e010-48b1-e5af-e4eecc67e6d1"
      },
      "source": [
        "tuple4 = 2,3,5,\"java\"\n",
        "w,x,y,z = tuple4\n",
        "print(w)\n",
        "print(x)\n",
        "print(y)\n",
        "print(z)"
      ],
      "execution_count": null,
      "outputs": [
        {
          "output_type": "stream",
          "name": "stdout",
          "text": [
            "2\n",
            "3\n",
            "5\n",
            "java\n"
          ]
        }
      ]
    },
    {
      "cell_type": "markdown",
      "metadata": {
        "id": "I00JLBWqJfil"
      },
      "source": [
        "# Tuple Functions"
      ]
    },
    {
      "cell_type": "code",
      "metadata": {
        "colab": {
          "base_uri": "https://localhost:8080/"
        },
        "id": "EPERm3NiJhf5",
        "outputId": "1e47c9f6-1361-4a03-864f-9bf07e962546"
      },
      "source": [
        "tuple5 = (11,11,33,44,11,\"python\",\"java\")\n",
        "print(tuple5.count(11)) # .count returns the number of occurance of a value"
      ],
      "execution_count": null,
      "outputs": [
        {
          "output_type": "stream",
          "name": "stdout",
          "text": [
            "3\n"
          ]
        }
      ]
    },
    {
      "cell_type": "code",
      "metadata": {
        "colab": {
          "base_uri": "https://localhost:8080/"
        },
        "id": "jSgPtkaTKBHh",
        "outputId": "d86919cf-d7a9-483e-a406-b2992351cb0c"
      },
      "source": [
        "print(tuple5.index(33)) # .index returns the index number of a value"
      ],
      "execution_count": null,
      "outputs": [
        {
          "output_type": "stream",
          "name": "stdout",
          "text": [
            "2\n"
          ]
        }
      ]
    }
  ]
}