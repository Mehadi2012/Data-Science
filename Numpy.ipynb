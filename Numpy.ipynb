{
  "nbformat": 4,
  "nbformat_minor": 0,
  "metadata": {
    "colab": {
      "name": "Numpy.ipynb",
      "provenance": [],
      "authorship_tag": "ABX9TyPILMMq9qbFT2pJKzeetHB6",
      "include_colab_link": true
    },
    "kernelspec": {
      "name": "python3",
      "display_name": "Python 3"
    },
    "language_info": {
      "name": "python"
    }
  },
  "cells": [
    {
      "cell_type": "markdown",
      "metadata": {
        "id": "view-in-github",
        "colab_type": "text"
      },
      "source": [
        "<a href=\"https://colab.research.google.com/github/Mehadi2012/Data-Science/blob/main/Numpy.ipynb\" target=\"_parent\"><img src=\"https://colab.research.google.com/assets/colab-badge.svg\" alt=\"Open In Colab\"/></a>"
      ]
    },
    {
      "cell_type": "code",
      "metadata": {
        "colab": {
          "base_uri": "https://localhost:8080/"
        },
        "id": "3y9FwZx_6ZQo",
        "outputId": "eacc327c-b223-4ed6-c19f-2d5b77f14441"
      },
      "source": [
        "import numpy as np\n",
        "np.array([1,2,3,4,5], dtype=float)"
      ],
      "execution_count": 2,
      "outputs": [
        {
          "output_type": "execute_result",
          "data": {
            "text/plain": [
              "array([1., 2., 3., 4., 5.])"
            ]
          },
          "metadata": {},
          "execution_count": 2
        }
      ]
    },
    {
      "cell_type": "markdown",
      "metadata": {
        "id": "apRlu1Jd7Ija"
      },
      "source": [
        "# 2D Array"
      ]
    },
    {
      "cell_type": "code",
      "metadata": {
        "colab": {
          "base_uri": "https://localhost:8080/"
        },
        "id": "X4vaXtAJ6yOa",
        "outputId": "56b7eb2d-ac4f-4026-cf93-5a6c291c4d12"
      },
      "source": [
        "np.array([[1,2,3,4,5],[6,7,8,9,10]], dtype=int)"
      ],
      "execution_count": 18,
      "outputs": [
        {
          "output_type": "execute_result",
          "data": {
            "text/plain": [
              "array([[ 1,  2,  3,  4,  5],\n",
              "       [ 6,  7,  8,  9, 10]])"
            ]
          },
          "metadata": {},
          "execution_count": 18
        }
      ]
    },
    {
      "cell_type": "code",
      "metadata": {
        "colab": {
          "base_uri": "https://localhost:8080/"
        },
        "id": "ahMoI6Vr7KhF",
        "outputId": "497b6b9e-8353-418d-992d-a254637463c8"
      },
      "source": [
        "np.array([[1,2,3],[4,5,6],[7,8,9]], dtype=float)"
      ],
      "execution_count": 35,
      "outputs": [
        {
          "output_type": "execute_result",
          "data": {
            "text/plain": [
              "array([[1., 2., 3.],\n",
              "       [4., 5., 6.],\n",
              "       [7., 8., 9.]])"
            ]
          },
          "metadata": {},
          "execution_count": 35
        }
      ]
    },
    {
      "cell_type": "code",
      "metadata": {
        "colab": {
          "base_uri": "https://localhost:8080/"
        },
        "id": "oV8n9xWM8YXX",
        "outputId": "a6970265-c33a-4c8c-e040-2c71b9c18daa"
      },
      "source": [
        "np.zeros(10, dtype = int) # Create an array filled with zeros"
      ],
      "execution_count": 30,
      "outputs": [
        {
          "output_type": "execute_result",
          "data": {
            "text/plain": [
              "array([0, 0, 0, 0, 0, 0, 0, 0, 0, 0])"
            ]
          },
          "metadata": {},
          "execution_count": 30
        }
      ]
    },
    {
      "cell_type": "code",
      "metadata": {
        "colab": {
          "base_uri": "https://localhost:8080/"
        },
        "id": "9PnxZaLN8jK5",
        "outputId": "0d5b577e-2533-4143-aa78-e8fcc05b3f1d"
      },
      "source": [
        "np.ones((5,5), dtype = float) # Create a 2D array filled with ones. The first value in the parameter indicates the number rows and the other indicated the number of column."
      ],
      "execution_count": 32,
      "outputs": [
        {
          "output_type": "execute_result",
          "data": {
            "text/plain": [
              "array([[1., 1., 1., 1., 1.],\n",
              "       [1., 1., 1., 1., 1.],\n",
              "       [1., 1., 1., 1., 1.],\n",
              "       [1., 1., 1., 1., 1.],\n",
              "       [1., 1., 1., 1., 1.]])"
            ]
          },
          "metadata": {},
          "execution_count": 32
        }
      ]
    },
    {
      "cell_type": "code",
      "metadata": {
        "colab": {
          "base_uri": "https://localhost:8080/"
        },
        "id": "HRfmfHUV87am",
        "outputId": "063db1c2-debf-43d2-ed30-108241bf0ab8"
      },
      "source": [
        "np.random.random((4,3)) # An array filled with random values between 0 and 1"
      ],
      "execution_count": 34,
      "outputs": [
        {
          "output_type": "execute_result",
          "data": {
            "text/plain": [
              "array([[0.59494602, 0.30685709, 0.48929663],\n",
              "       [0.98918699, 0.90861397, 0.01975347],\n",
              "       [0.93851603, 0.73668059, 0.9672868 ],\n",
              "       [0.09565275, 0.77065394, 0.78606724]])"
            ]
          },
          "metadata": {},
          "execution_count": 34
        }
      ]
    },
    {
      "cell_type": "code",
      "metadata": {
        "colab": {
          "base_uri": "https://localhost:8080/"
        },
        "id": "UAz_E1jDWtbs",
        "outputId": "207a873b-67e7-4813-84d0-903bb2ca8b66"
      },
      "source": [
        "arr = np.array([1,2,3,4,5,6], dtype = int)\n",
        "print(arr)\n",
        "print(arr[0])"
      ],
      "execution_count": 5,
      "outputs": [
        {
          "output_type": "stream",
          "name": "stdout",
          "text": [
            "[1 2 3 4 5 6]\n",
            "1\n"
          ]
        }
      ]
    },
    {
      "cell_type": "code",
      "metadata": {
        "colab": {
          "base_uri": "https://localhost:8080/"
        },
        "id": "pj4b33Y2W9Nd",
        "outputId": "87b598b2-0e77-477e-c4bb-dfe0b7a5762d"
      },
      "source": [
        "arr1 = np.array([[1,2,3,4,5],[6,7,8,9,10]], dtype = int)\n",
        "print(arr1)\n",
        "print(arr1[0,4])\n",
        "print(arr1[1,4])"
      ],
      "execution_count": 70,
      "outputs": [
        {
          "output_type": "stream",
          "name": "stdout",
          "text": [
            "[[ 1  2  3  4  5]\n",
            " [ 6  7  8  9 10]]\n",
            "5\n",
            "10\n"
          ]
        }
      ]
    },
    {
      "cell_type": "markdown",
      "metadata": {
        "id": "ewj6AYEtadFU"
      },
      "source": [
        "# 1D Slicing"
      ]
    },
    {
      "cell_type": "code",
      "metadata": {
        "colab": {
          "base_uri": "https://localhost:8080/"
        },
        "id": "IZoLj9_1X0u4",
        "outputId": "77703ef4-fea0-4256-8bb2-17b7bea6aa3a"
      },
      "source": [
        "# Slice: an_array[start:end:step]\n",
        "\n",
        "x = np.arange(10)\n",
        "print(x)\n",
        "print(x[:5])\n",
        "print(x[5:])\n",
        "print(x[3:6])\n",
        "print(x[::2])  # Here 2 indicates the step\n",
        "print(x[1::2])\n",
        "print(x[1::-1])\n",
        "print(x[1::-2])\n",
        "print(x[::-1])\n",
        "print(x[::-2])"
      ],
      "execution_count": 44,
      "outputs": [
        {
          "output_type": "stream",
          "name": "stdout",
          "text": [
            "[0 1 2 3 4 5 6 7 8 9]\n",
            "[0 1 2 3 4]\n",
            "[5 6 7 8 9]\n",
            "[3 4 5]\n",
            "[0 2 4 6 8]\n",
            "[1 3 5 7 9]\n",
            "[1 0]\n",
            "[1]\n",
            "[9 8 7 6 5 4 3 2 1 0]\n",
            "[9 7 5 3 1]\n"
          ]
        }
      ]
    },
    {
      "cell_type": "markdown",
      "metadata": {
        "id": "peQuxCNwb2tD"
      },
      "source": [
        "# 2D Slicing"
      ]
    },
    {
      "cell_type": "code",
      "metadata": {
        "colab": {
          "base_uri": "https://localhost:8080/"
        },
        "id": "mIaVOK8AagBr",
        "outputId": "c1411307-4f5d-46fe-f177-a69b6d4f82df"
      },
      "source": [
        "x3 = np.array([[1,2,3,4],[5,6,7,8],[9,10,11,12]], dtype = int)\n",
        "print(x3[:3, :4])\n",
        "print('\\n',x3[:1, :2])\n",
        "print('\\n',x3[1:2, 0:3])\n",
        "print('\\n',x3[:3, ::2])\n",
        "print('\\n',x3[:3, :2:2])  # Here :3 means we are taking all the rows. :2 means we are taking column from 0 to 1. :2 means we are taking every other column.\n",
        "print('\\n',x3[:3, ::4])"
      ],
      "execution_count": 68,
      "outputs": [
        {
          "output_type": "stream",
          "name": "stdout",
          "text": [
            "[[ 1  2  3  4]\n",
            " [ 5  6  7  8]\n",
            " [ 9 10 11 12]]\n",
            "\n",
            " [[1 2]]\n",
            "\n",
            " [[5 6 7]]\n",
            "\n",
            " [[ 1  3]\n",
            " [ 5  7]\n",
            " [ 9 11]]\n",
            "\n",
            " [[1]\n",
            " [5]\n",
            " [9]]\n",
            "\n",
            " [[1]\n",
            " [5]\n",
            " [9]]\n"
          ]
        }
      ]
    },
    {
      "cell_type": "markdown",
      "metadata": {
        "id": "e3pmM-4xi1LN"
      },
      "source": [
        "# reshape() Method"
      ]
    },
    {
      "cell_type": "code",
      "metadata": {
        "colab": {
          "base_uri": "https://localhost:8080/"
        },
        "id": "aA59CyE1i4Vc",
        "outputId": "a485be5a-732a-4e3e-f03e-a4f9dbe8cfcd"
      },
      "source": [
        "grid = np.arange(1,10).reshape((3,3)) # Here we reshaping a 1D array into 3 rows and 3 columns of 2D array.\n",
        "print(grid)"
      ],
      "execution_count": 75,
      "outputs": [
        {
          "output_type": "stream",
          "name": "stdout",
          "text": [
            "[[1 2 3]\n",
            " [4 5 6]\n",
            " [7 8 9]]\n"
          ]
        }
      ]
    },
    {
      "cell_type": "code",
      "metadata": {
        "colab": {
          "base_uri": "https://localhost:8080/"
        },
        "id": "DNdX0YEfjx-f",
        "outputId": "a354514b-dbff-4afd-f456-dbb6bdfcdd85"
      },
      "source": [
        "grid1 = np.arange(10).reshape((2,5))\n",
        "print(grid1)"
      ],
      "execution_count": 78,
      "outputs": [
        {
          "output_type": "stream",
          "name": "stdout",
          "text": [
            "[[0 1 2 3 4]\n",
            " [5 6 7 8 9]]\n"
          ]
        }
      ]
    }
  ]
}